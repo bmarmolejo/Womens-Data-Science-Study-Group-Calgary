{
 "cells": [
  {
   "cell_type": "markdown",
   "metadata": {},
   "source": [
    "# Introduction to Python and Notebooks\n",
    "\n",
    "This is a notebook to run ipython 3 with the extension **.ipynb**.\n",
    "\n",
    "In a notebook, the code lines ran in cells. The cells can be a *coding* cell or a *markdown* cell. To change between them, exit the cell by pressing *escape* and then:\n",
    "\n",
    "* ***m*** to convert to markdown\n",
    "* ***y*** to convert to code\n",
    "\n",
    "To create new cells:\n",
    "\n",
    "* ***a*** to create cell above\n",
    "* ***b*** to create cell below\n",
    "* ***dd*** to delete a cell\n",
    "* ***c*** to copy a cell\n",
    "* ***v*** to paste a cell below\n",
    "* ***x*** to cut a cell\n",
    "\n",
    "To run a single cell, there are three different options using the keyboard:\n",
    "\n",
    "1. ***ctrl+shift***: run and go to the next cell\n",
    "2. ***ctrl+enter***: run and keeps on current cell\n",
    "3. ***alt+enter***: run and create a new cell below"
   ]
  },
  {
   "cell_type": "markdown",
   "metadata": {},
   "source": [
    "# Assigning Values to Variables #\n",
    "\n",
    "The equal sign (=) is used to assign values to variables.\n",
    "\n",
    "`variable_name  =  value_stored_in_the_variable`"
   ]
  },
  {
   "cell_type": "code",
   "execution_count": null,
   "metadata": {},
   "outputs": [],
   "source": [
    "# Comments in Python are defined by the hash sign \"#\", which means that everything \n",
    "# after the symbol \"#\" the Python interpreter ignores them\n",
    "\n",
    "x = 42           # An integer assignment (int)\n",
    "y = \"Hello\"       # A set of caracters (string) (str)\n",
    "z = 4.32          # A floating point (float)"
   ]
  },
  {
   "cell_type": "code",
   "execution_count": null,
   "metadata": {},
   "outputs": [],
   "source": [
    "#########\n",
    "# Printing the variables types \n",
    "#########\n",
    "\n",
    "#The function \"type()\" return the variable type\n",
    "\n",
    "print('Type of the variable x = ',type(x))\n",
    "print('Type of the variable y = ',type(y))\n",
    "print('Type of the variable = ',type(z))"
   ]
  },
  {
   "cell_type": "code",
   "execution_count": null,
   "metadata": {},
   "outputs": [],
   "source": [
    "x = 42   \n",
    "y = \"Hello\" \n",
    "z = 4.32  \n",
    "\n",
    "x = x + 1        # keep the type int\n",
    "y = y + \" World\" # strings concatenation\n",
    "z = 2 + z        # keep the type float\n",
    "w = x / 2        # eventhough the x is an integer, the division results in a float\n",
    "    \n",
    "print('x = ',x,type(x))\n",
    "print('y = ',y,type(y))\n",
    "print('z = ',z,type(z))\n",
    "print('w = ',w,type(z))"
   ]
  },
  {
   "cell_type": "markdown",
   "metadata": {},
   "source": [
    "- The variable type string (str) support the operators ``+`` (for concatenation) and ``*`` (for replication)"
   ]
  },
  {
   "cell_type": "code",
   "execution_count": null,
   "metadata": {},
   "outputs": [],
   "source": [
    "y = \"Hello\"\n",
    "y = y + \" World \"\n",
    "print(\"Concatenation of y + World: \",y)\n",
    "\n",
    "w = 2*y   # The replication operation \"*\" assumes an integer and a string as arguments\n",
    "print(\"2*w replica w duas vezes: \",w)\n",
    "\n",
    "print(5*'---')"
   ]
  },
  {
   "cell_type": "markdown",
   "metadata": {},
   "source": [
    "<img src=\"img/math_operators_python.PNG\" alt=\"Drawing\" style=\"width: 600px;\"/>"
   ]
  },
  {
   "cell_type": "code",
   "execution_count": null,
   "metadata": {},
   "outputs": [],
   "source": [
    "3 + 5 * 2"
   ]
  },
  {
   "cell_type": "code",
   "execution_count": null,
   "metadata": {},
   "outputs": [],
   "source": [
    "(3 + 5) * 2"
   ]
  },
  {
   "cell_type": "code",
   "execution_count": null,
   "metadata": {},
   "outputs": [],
   "source": [
    "123 * 233"
   ]
  },
  {
   "cell_type": "code",
   "execution_count": null,
   "metadata": {},
   "outputs": [],
   "source": [
    "3 ** 4 # Exponent"
   ]
  },
  {
   "cell_type": "code",
   "execution_count": null,
   "metadata": {
    "scrolled": true
   },
   "outputs": [],
   "source": [
    "3 * 3 * 3 * 3"
   ]
  },
  {
   "cell_type": "code",
   "execution_count": null,
   "metadata": {
    "scrolled": true
   },
   "outputs": [],
   "source": [
    "23 % 7 # remainder of a division"
   ]
  },
  {
   "cell_type": "code",
   "execution_count": null,
   "metadata": {},
   "outputs": [],
   "source": [
    "(7 - 2) * ((3 + 3) / (4 - 3))"
   ]
  },
  {
   "cell_type": "code",
   "execution_count": null,
   "metadata": {
    "scrolled": true
   },
   "outputs": [],
   "source": [
    "4 + "
   ]
  },
  {
   "cell_type": "code",
   "execution_count": null,
   "metadata": {
    "scrolled": false
   },
   "outputs": [],
   "source": [
    "31 + 3 + * 3"
   ]
  },
  {
   "cell_type": "markdown",
   "metadata": {},
   "source": [
    "# Variable Names\n",
    "\n",
    "Though you can name your variables almost anything, Python does have some naming restrictions. You can name a variable anything as long as it obeys the following the rules:\n",
    "\n",
    "* It can be only one word with no spaces.\n",
    "* It can use only letters, numbers, and the underscore (_) character.\n",
    "```\n",
    "\tbob   Bob   _bob   _2_bob_   bob_2    Bob\n",
    "```\n",
    "* It can’t begin with a number.\n",
    "\n",
    "\n",
    "* There are some words that can not be used as variable names. Examples:\n",
    "\n",
    "<span style=\"color:blue\">and, assert, break, class, continue, def, del, elif, else, except, exec, finally, for, from, global, if, import, in, is, lambda, not, or, pass, print, raise, return, try, while</span>\n",
    "\n",
    "* Variable names are **case-sensitive**, meaning that spam, SPAM, Spam, and sPaM are four different variables. \n",
    "Though Spam is a valid variable you can use in a program, it is a Python convention to start your variables with a **lowercase letter**.\n",
    "\n",
    "Python code style, PEP 8, says that underscores should be used for variable names but you can also use **camelcase**.\n",
    "\n",
    "- Camelcase for variable names: <span style=\"color:blue\">*lookLikeThis*</span>\n",
    "- Underscores for variable names: <span style=\"color:blue\">*look_like_this*</span>"
   ]
  },
  {
   "cell_type": "markdown",
   "metadata": {},
   "source": [
    "## Variable Types\n",
    "\n",
    "#### *int*\n",
    "- Example: 42, int(4/3)\n",
    "\n",
    "#### *float*\n",
    "- Example: 3.14, 3.14e-10, .0001, 4.\n",
    "\n",
    "#### Boolean - *bool*\n",
    "- Example: True, False\n",
    "\n",
    "#### Complex numbers\n",
    "- Example: 3j, 4+5j\n"
   ]
  },
  {
   "cell_type": "markdown",
   "metadata": {},
   "source": [
    "## Sequences in Python\n",
    "\n",
    "A sequence is a succession of values bound together by a container that reflects their type. Almost every stream that you put in Python is a sequence.\n",
    "\n",
    "### Types of Sequences\n",
    "* <font color=red>**String**</font>\n",
    "* <font color=red>**Lists**</font>\n",
    "* <font color=red>**Tuples**</font>\n",
    "\n",
    "The values of a `tuple`, `list` or `string` can be accessed by using square brackets [ ] and the value index.<br> \n",
    "The index of values range from $0$ to $n-1$, where $n$  is the number of values in a sequence.\n",
    "\n",
    "<hr>\n",
    "\n",
    "__***__ Tuples and strings are immutable ( the value cannot change), lists are mutable (it is possible to change values)"
   ]
  },
  {
   "cell_type": "markdown",
   "metadata": {},
   "source": [
    "## <font color=red>**String**</font>\n",
    "- Similar to tuples\n",
    "- The objects are restricted to caracters"
   ]
  },
  {
   "cell_type": "code",
   "execution_count": null,
   "metadata": {
    "scrolled": true
   },
   "outputs": [],
   "source": [
    "var1 = '' # Empty string\n",
    "print(var1)\n",
    "print(len(var1))"
   ]
  },
  {
   "cell_type": "code",
   "execution_count": null,
   "metadata": {},
   "outputs": [],
   "source": [
    "var2 = 'Hello World!'\n",
    "var3 = \"Python Programming\"\n",
    "\n",
    "print(\"var2[0]: \", var2[0])\n",
    "print(\"var3[1:5]: \", var3[1:5])"
   ]
  },
  {
   "cell_type": "markdown",
   "metadata": {},
   "source": [
    "# Updating Strings\n"
   ]
  },
  {
   "cell_type": "code",
   "execution_count": null,
   "metadata": {},
   "outputs": [],
   "source": [
    "print(\"Updated String : \", var2[:6] + 'Python!')"
   ]
  },
  {
   "cell_type": "markdown",
   "metadata": {},
   "source": [
    "# String Special Operators"
   ]
  },
  {
   "cell_type": "code",
   "execution_count": null,
   "metadata": {
    "scrolled": true
   },
   "outputs": [],
   "source": [
    "var4 = 'Hello '\n",
    "\n",
    "print(var4 + 'World!') # +: Concatenation - Adds values on either side of the operator\n",
    "print(3 * var4)# *: Repetition - Creates new strings, concatenating multiple copies of the same string\n",
    "\n",
    "print(var4[1]) #[] Slice - Gives the character from the given index\n",
    "print(var4[1:3]) # [ : ] Range Slice - Gives the characters from the given range\n",
    "\n",
    "print('e' in var4) # in: Membership - Returns true if a character exists in the given string\n",
    "print('S' not in var4) # not in: Membership - Returns true if a character does not exist in the given string"
   ]
  },
  {
   "cell_type": "markdown",
   "metadata": {},
   "source": [
    "# String Formatting Operator\n",
    "The operator (%) is unique to strings.\n",
    "\n",
    "Format Symbol -> Conversion\n",
    "* %c ->\tcharacter\n",
    "* %d ->\tsigned decimal integer\n",
    "* %s -> string conversion via str() prior to formatting\n",
    "* %f -> floating point real number\n",
    "* others"
   ]
  },
  {
   "cell_type": "code",
   "execution_count": null,
   "metadata": {},
   "outputs": [],
   "source": [
    "myName = 'Soane'\n",
    "myAge = 26\n",
    "\n",
    "print(\"My name is %s and I am %d years old! \\U0001F609\" % (myName, myAge))"
   ]
  },
  {
   "cell_type": "markdown",
   "metadata": {},
   "source": [
    "# My first program in Python\n",
    "\n",
    "Example from the book [Automate the Boring Stuff with Python](https://automatetheboringstuff.com/)"
   ]
  },
  {
   "cell_type": "code",
   "execution_count": null,
   "metadata": {},
   "outputs": [],
   "source": [
    "# This program says hello and asks for my name.\n",
    "print('Hello, world!')\n",
    "print('What is your name?') # ask for their name\n",
    "myName = input()\n",
    "print('It is good to meet you, ' + myName)\n",
    "print('The length of your name is:')\n",
    "print(len(myName))\n",
    "print('What is your age?') # ask for their age\n",
    "myAge = input()\n",
    "print('You will be ' + str(int(myAge) + 1) + ' in a year.')"
   ]
  },
  {
   "cell_type": "markdown",
   "metadata": {},
   "source": [
    "## <font color=red>**Lists**</font>\n",
    "- A sort of container that holds a number of other objects, in a given order.\n",
    "- The values **can** be modified, added, removed from the sequence.\n",
    "- Collection of elements that can have different types. Inclosed in *square brackets*"
   ]
  },
  {
   "cell_type": "code",
   "execution_count": null,
   "metadata": {},
   "outputs": [],
   "source": [
    "ls0 = [] # Empty list\n",
    "print(ls0)"
   ]
  },
  {
   "cell_type": "code",
   "execution_count": null,
   "metadata": {},
   "outputs": [],
   "source": [
    "# This is a list\n",
    "ls1 = [1, 2, 'foo']\n",
    "print(ls1)"
   ]
  },
  {
   "cell_type": "code",
   "execution_count": null,
   "metadata": {
    "scrolled": true
   },
   "outputs": [],
   "source": [
    "ls2 = [1, 2, 3, 4, 5 ] # this is also a list\n",
    "ls3 = [\"a\", \"b\", \"c\", \"d\"]\n",
    "print(ls2)\n",
    "print(ls3)"
   ]
  },
  {
   "cell_type": "markdown",
   "metadata": {},
   "source": [
    "# Accessing Values in Lists"
   ]
  },
  {
   "cell_type": "code",
   "execution_count": null,
   "metadata": {},
   "outputs": [],
   "source": [
    "print(\"ls2[0]: \", ls2[0])\n",
    "print(\"ls3[1:5]: \", ls3[1:5])"
   ]
  },
  {
   "cell_type": "markdown",
   "metadata": {},
   "source": [
    "# Updating Lists"
   ]
  },
  {
   "cell_type": "code",
   "execution_count": null,
   "metadata": {
    "scrolled": true
   },
   "outputs": [],
   "source": [
    "ls3 = [1,2,'Spring','Summer']\n",
    "print(\"Ls3: \", ls3)\n",
    "print(\"Value available at index 1 : \",ls3[1])\n",
    "print(5*'---')\n",
    "ls3[1] = 'Winter'\n",
    "print(\"New value available at index 1 : \", ls3[1])\n",
    "print(\"Ls3: \", ls3)"
   ]
  },
  {
   "cell_type": "markdown",
   "metadata": {},
   "source": [
    "# Delete List Elements"
   ]
  },
  {
   "cell_type": "code",
   "execution_count": null,
   "metadata": {},
   "outputs": [],
   "source": [
    "del ls3[2];\n",
    "print(\"After deleting value at index 2 : \", ls3)"
   ]
  },
  {
   "cell_type": "markdown",
   "metadata": {},
   "source": [
    "# Basic List Operations"
   ]
  },
  {
   "cell_type": "code",
   "execution_count": null,
   "metadata": {},
   "outputs": [],
   "source": [
    "len(ls2) #Length"
   ]
  },
  {
   "cell_type": "code",
   "execution_count": null,
   "metadata": {},
   "outputs": [],
   "source": [
    "ls4 = [1, 2, 3] \n",
    "ls5 = [4, 5, 6]\n",
    "ls4 +ls5  #Concatenation"
   ]
  },
  {
   "cell_type": "code",
   "execution_count": null,
   "metadata": {},
   "outputs": [],
   "source": [
    "['Hi!'] * 4 #Repetition"
   ]
  },
  {
   "cell_type": "code",
   "execution_count": null,
   "metadata": {},
   "outputs": [],
   "source": [
    "5 in [1, 2, 3, 4, 5, 6] #Membership"
   ]
  },
  {
   "cell_type": "code",
   "execution_count": null,
   "metadata": {
    "scrolled": true
   },
   "outputs": [],
   "source": [
    "for x in [1, 2, 3]: #Iteration\n",
    "    print (x)"
   ]
  },
  {
   "cell_type": "code",
   "execution_count": null,
   "metadata": {},
   "outputs": [],
   "source": [
    "ls6 = ls4 +ls5 \n",
    "print('Total length of the list ls6: ', len(ls6))\n",
    "\n",
    "print('Max value from the list ls6:',max(ls6))\n",
    "print('Max value from the list ls6:',min(ls6))"
   ]
  },
  {
   "cell_type": "code",
   "execution_count": null,
   "metadata": {},
   "outputs": [],
   "source": [
    "ls7 = tuple(ls6)\n",
    "print('New ls7 type:', type(ls7))\n",
    "ls8 = list(ls7)\n",
    "print(ls8)\n",
    "print('New ls8 type:', type(ls8))"
   ]
  },
  {
   "cell_type": "code",
   "execution_count": null,
   "metadata": {
    "scrolled": true
   },
   "outputs": [],
   "source": [
    "ls9 = [1,1,4,5,6,7,7,7]\n",
    "ls9.append('new obj') #Appends object obj to list\n",
    "print(ls9)"
   ]
  },
  {
   "cell_type": "code",
   "execution_count": null,
   "metadata": {},
   "outputs": [],
   "source": [
    "ls9.count(7) #Returns count of how many times obj occurs in list"
   ]
  },
  {
   "cell_type": "code",
   "execution_count": null,
   "metadata": {},
   "outputs": [],
   "source": [
    "ls10 = [2009, 'manni']\n",
    "ls9.extend(ls10) #Appends the contents of seq to list\n",
    "print(ls9)"
   ]
  },
  {
   "cell_type": "code",
   "execution_count": null,
   "metadata": {},
   "outputs": [],
   "source": [
    "ls9.index(1) #Returns the lowest index in list that obj appears"
   ]
  },
  {
   "cell_type": "code",
   "execution_count": null,
   "metadata": {},
   "outputs": [],
   "source": [
    "ls9.index(7) #Returns the lowest index in list that obj appears"
   ]
  },
  {
   "cell_type": "code",
   "execution_count": null,
   "metadata": {
    "scrolled": true
   },
   "outputs": [],
   "source": [
    "#list.insert(index, obj) \n",
    "ls9.insert( 3, 'Hi!')#Inserts object obj into list at offset index\n",
    "print(ls9)"
   ]
  },
  {
   "cell_type": "code",
   "execution_count": null,
   "metadata": {},
   "outputs": [],
   "source": [
    "ls11 = [1234, 'baby', 'zazu', 'abc']\n",
    "print('ls11: ', ls11.pop()) #Removes and returns last object or obj from list\n",
    "print('ls11: ', ls11.pop(1))\n",
    "ls11"
   ]
  },
  {
   "cell_type": "code",
   "execution_count": null,
   "metadata": {},
   "outputs": [],
   "source": [
    "ls11 = [1234, 'baby', 'zazu', 'abc']\n",
    "ls11.remove('abc') #Removes object obj from list\n",
    "print('ls11: ', ls11)"
   ]
  },
  {
   "cell_type": "code",
   "execution_count": null,
   "metadata": {},
   "outputs": [],
   "source": [
    "ls11.reverse() #Reverses objects of list in place\n",
    "print('ls11: ', ls11)"
   ]
  },
  {
   "cell_type": "code",
   "execution_count": null,
   "metadata": {},
   "outputs": [],
   "source": [
    "ls12 = [3,5,6,2,1,3,4]\n",
    "ls12.sort() # Sorts objects of list, use compare func if given\n",
    "print('ls12: ',ls12)"
   ]
  },
  {
   "cell_type": "markdown",
   "metadata": {},
   "source": [
    "## <font color=red>**Tuples**</font>\n",
    "\n",
    "- Sorted sequence of objects.\n",
    "- Objects can be have distinct types, including another sequence.\n",
    "- The values **can not** be modified.\n",
    "- similar to list, but with less \"resources\". Inclosed by *parentheses*"
   ]
  },
  {
   "cell_type": "code",
   "execution_count": null,
   "metadata": {},
   "outputs": [],
   "source": [
    "tp1 = () # this is an empty tuple\n",
    "print(tp1)"
   ]
  },
  {
   "cell_type": "code",
   "execution_count": null,
   "metadata": {
    "scrolled": false
   },
   "outputs": [],
   "source": [
    "# This is a tuple\n",
    "tp2 = (1, 2, 'foo')\n",
    "print(tp2)"
   ]
  },
  {
   "cell_type": "code",
   "execution_count": null,
   "metadata": {},
   "outputs": [],
   "source": [
    "tp3 = (12, 'abc', 3.14, (0,1))  # This is a tuple and  usually it writes 'tuples' by listing the elements within parentheses\n",
    "\n",
    "print(tp3[0]) # Use the square brackets for slicing along with the index or indices to obtain value available at that index\n",
    "print(tp3[1])\n",
    "print(tp3[2])\n",
    "print(tp3[3]) "
   ]
  },
  {
   "cell_type": "code",
   "execution_count": null,
   "metadata": {
    "scrolled": true
   },
   "outputs": [],
   "source": [
    "tp4 = ('physics', 'chemistry', 1997, 2000)\n",
    "print(\"tp4[0]: \", tp4[0])"
   ]
  },
  {
   "cell_type": "code",
   "execution_count": null,
   "metadata": {},
   "outputs": [],
   "source": [
    "tp5 = (1, 2, 3, 4, 5, 6, 7 )\n",
    "print(\"tp5[1:5]: \", tp5[1:5])"
   ]
  },
  {
   "cell_type": "markdown",
   "metadata": {},
   "source": [
    "# Updating Tuples\n",
    "\n",
    "Tuples are **immutable** which means you **cannot update or change the values** of tuple elements. You are able to **take portions** of existing tuples **to create new tuples**"
   ]
  },
  {
   "cell_type": "code",
   "execution_count": null,
   "metadata": {},
   "outputs": [],
   "source": [
    "tp6 = (12, 25.11);\n",
    "tp7 = ('abc', 'xyz');\n",
    "\n",
    "# Following action is not valid for tuples\n",
    "# tp6[0] = 10;\n",
    "\n",
    "# So let's create a new tuple as follows\n",
    "tp8 = tp6 + tp7;\n",
    "print(tp8)"
   ]
  },
  {
   "cell_type": "markdown",
   "metadata": {},
   "source": [
    "# Delete Tuple Elements\n",
    "\n",
    "**Removing individual tuple elements is not possible.** There is, of course, nothing wrong with putting together another tuple with the undesired elements discarded.\n",
    "\n",
    "To explicitly remove an entire tuple, just use the del statement. "
   ]
  },
  {
   "cell_type": "code",
   "execution_count": null,
   "metadata": {
    "scrolled": true
   },
   "outputs": [],
   "source": [
    "tp9 = ('January', 'March', 2019, 2020)\n",
    "print (tp9)\n",
    "del tp9\n",
    "print(\"After deleting tup : \")\n",
    "print(tp9);"
   ]
  },
  {
   "cell_type": "markdown",
   "metadata": {},
   "source": [
    "# Basic Tuples Operations\n"
   ]
  },
  {
   "cell_type": "code",
   "execution_count": null,
   "metadata": {},
   "outputs": [],
   "source": [
    "len((1, 2, 3)) #Length"
   ]
  },
  {
   "cell_type": "code",
   "execution_count": null,
   "metadata": {},
   "outputs": [],
   "source": [
    "(\"Winter\", \"Spring\") + (\"Summer\", \"Fall\") # Concatenation"
   ]
  },
  {
   "cell_type": "code",
   "execution_count": null,
   "metadata": {},
   "outputs": [],
   "source": [
    "('Hi!',) * 4 # Repetition"
   ]
  },
  {
   "cell_type": "code",
   "execution_count": null,
   "metadata": {},
   "outputs": [],
   "source": [
    "10 in (5,7,8,9,10) #Membership"
   ]
  },
  {
   "cell_type": "code",
   "execution_count": null,
   "metadata": {
    "scrolled": true
   },
   "outputs": [],
   "source": [
    "for x in (1, 2, 3): #Iteration\n",
    "    print(x)"
   ]
  },
  {
   "cell_type": "code",
   "execution_count": null,
   "metadata": {},
   "outputs": [],
   "source": [
    "tp10 = (5,7,8,9,10)\n",
    "\n",
    "print( \"Max tp10: \", max(tp10)) #Returns item from the tuple with max value.\n",
    "print( \"Mim tp10: \", min(tp10)) # Returns item from the tuple with min value."
   ]
  },
  {
   "cell_type": "code",
   "execution_count": null,
   "metadata": {},
   "outputs": [],
   "source": [
    "aList = [123, 'simba', 'zazu', 'nala']\n",
    "tuple(aList) # Converts a list into tuple."
   ]
  },
  {
   "cell_type": "markdown",
   "metadata": {},
   "source": [
    "## <font color=red>**Dictionary**</font>\n",
    "\n",
    "\n",
    "Dictionary in Python is an unordered collection of data values, used to store data values like a map, which unlike other Data Types that hold only single value as an element, Dictionary holds `key:value` pair. Key value is provided in the dictionary to make it more optimized.\n",
    "\n",
    "A dictionary can have different objects types"
   ]
  },
  {
   "cell_type": "code",
   "execution_count": null,
   "metadata": {},
   "outputs": [],
   "source": [
    "dict0 = {} # empty dictionary\n",
    "print(dict0)"
   ]
  },
  {
   "cell_type": "code",
   "execution_count": null,
   "metadata": {},
   "outputs": [],
   "source": [
    "# This is a dictionary\n",
    "dict1 = {'X': 1, 'Y': [1,2]}\n",
    "print(dict1)"
   ]
  },
  {
   "cell_type": "markdown",
   "metadata": {},
   "source": [
    "# Accessing Values in Dictionary"
   ]
  },
  {
   "cell_type": "code",
   "execution_count": null,
   "metadata": {
    "scrolled": true
   },
   "outputs": [],
   "source": [
    "dict2 = {'Name': 'Suzy', 'Age': 26, 'Course': 'Introduction to Python'}\n",
    "\n",
    "print(\"dict2['Name']: \", dict2['Name'])\n",
    "print(\"dict2['Age']: \", dict2['Age'])\n",
    "dict2"
   ]
  },
  {
   "cell_type": "markdown",
   "metadata": {},
   "source": [
    "# Updating Dictionary"
   ]
  },
  {
   "cell_type": "code",
   "execution_count": null,
   "metadata": {},
   "outputs": [],
   "source": [
    "dict2['Age'] = 23; # update existing entry\n",
    "dict2['School'] = \"Python School\" # Add new entry\n",
    "\n",
    "print(\"dict2['Age']: \", dict2['Age'])\n",
    "print(\"dict2['School']: \", dict2['School'])\n",
    "dict2"
   ]
  },
  {
   "cell_type": "markdown",
   "metadata": {},
   "source": [
    "# Delete Dictionary Elements\n"
   ]
  },
  {
   "cell_type": "code",
   "execution_count": null,
   "metadata": {
    "scrolled": true
   },
   "outputs": [],
   "source": [
    "dict2['Name']; # remove entry with key 'Name'\n",
    "dict2.clear();     # remove all entries in dict\n",
    "print(dict2)"
   ]
  },
  {
   "cell_type": "code",
   "execution_count": null,
   "metadata": {},
   "outputs": [],
   "source": [
    "del dict2 ;        # delete entire dictionary\n",
    "\n",
    "print(\"dict2['Age']: \", dict2['Age'])\n",
    "print(\"dict2['School']: \", dict2['School'])\n",
    "dict2"
   ]
  },
  {
   "cell_type": "markdown",
   "metadata": {},
   "source": [
    "# Dictionary Methods"
   ]
  },
  {
   "cell_type": "code",
   "execution_count": null,
   "metadata": {},
   "outputs": [],
   "source": [
    "dict2 = {'Name': 'Suzy', 'Age': 26, 'Course': 'Introduction to Python'}\n",
    "dict3 = dict2.copy() # Returns a shallow copy of dictionary dict\n",
    "dict3"
   ]
  },
  {
   "cell_type": "code",
   "execution_count": null,
   "metadata": {},
   "outputs": [],
   "source": [
    "ca_provinces = {'ON':'Toronto',\n",
    " 'QC':'Quebec City',\n",
    " 'NS':'Halifax',\n",
    " 'NB':'Fredericto',\n",
    " 'MB':'Winnipeg',\n",
    " 'BC':'Victoria',\n",
    " 'PE':'Charlottetown',\n",
    " 'SK':'Regina',\n",
    " 'AB':'Edmonton',\n",
    " 'NL':'St. John'}\n",
    "print('Dictionary keys: ',ca_provinces.keys()) # Returns list of dictionary dict's keys\n",
    "\n",
    "print('Dictionary values: ', ca_provinces.values()) # Returns list of dictionary dict's values\n",
    "\n",
    "print('Dictionary keys and values ',ca_provinces.items()) # Returns list of dictionary dict's keys and values\n",
    "print(5*'---')\n",
    "x = list(ca_provinces.items())\n",
    "print(\"First item of the dictionary: \",x[0])"
   ]
  },
  {
   "cell_type": "markdown",
   "metadata": {},
   "source": [
    "# Dictionary Functions"
   ]
  },
  {
   "cell_type": "code",
   "execution_count": null,
   "metadata": {},
   "outputs": [],
   "source": [
    "print('Length of the dictionary: ', len(ca_provinces)) #Gives the total length of the dictionary. This would be equal to the number of items in the dictionary."
   ]
  },
  {
   "cell_type": "code",
   "execution_count": null,
   "metadata": {},
   "outputs": [],
   "source": [
    "type(ca_provinces) #Returns the type of the passed variable. If passed variable is dictionary, then it would return a dictionary type."
   ]
  },
  {
   "cell_type": "code",
   "execution_count": null,
   "metadata": {
    "scrolled": true
   },
   "outputs": [],
   "source": [
    "str(ca_provinces) #Produces a printable string representation of a dictionary"
   ]
  },
  {
   "cell_type": "markdown",
   "metadata": {},
   "source": [
    "## References##\n",
    "\n",
    "**Tutorials**\n",
    "* https://thomas-cokelaer.info/tutorials/python/lists.html\n",
    "* https://www.tutorialspoint.com/python/index.htm\n",
    "* https://www.tutorialspoint.com/python/python_tuples.htm\n",
    "* https://www.tutorialspoint.com/python/python_lists.htm\n",
    "* https://www.tutorialspoint.com/python/python_dictionary.htm\n",
    "* https://docs.python.org/3/tutorial/datastructures.html#dictionaries\n",
    "* https://www.edureka.co/blog/understanding-range-function-and-sequences-in-python\n",
    "* https://www.geeksforgeeks.org/python-program-to-print-emojis/\n",
    "\n",
    "\n",
    "**Books**\n",
    "\n",
    "   [Automate the Boring Stuff with Python](https://automatetheboringstuff.com/)\n",
    "    "
   ]
  }
 ],
 "metadata": {
  "kernelspec": {
   "display_name": "Python 3.6.6 64-bit ('soane': virtualenv)",
   "language": "python",
   "name": "python36664bitsoanevirtualenva2ff8454d89f48cdb94b2cc5fdd39d72"
  },
  "language_info": {
   "codemirror_mode": {
    "name": "ipython",
    "version": 3
   },
   "file_extension": ".py",
   "mimetype": "text/x-python",
   "name": "python",
   "nbconvert_exporter": "python",
   "pygments_lexer": "ipython3",
   "version": "3.6.6"
  }
 },
 "nbformat": 4,
 "nbformat_minor": 2
}
