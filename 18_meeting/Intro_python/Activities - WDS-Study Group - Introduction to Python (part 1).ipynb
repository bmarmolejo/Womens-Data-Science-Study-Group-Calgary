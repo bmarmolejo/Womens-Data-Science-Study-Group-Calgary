{
 "cells": [
  {
   "cell_type": "markdown",
   "metadata": {},
   "source": [
    "# Question 1\n",
    "\n",
    "Create <span style=\"color:red\">var_jude = 'Jude'</span> and <span style=\"color:purple\">var_judy = 'Judy'</span> and se the function <span style=\"color:blue\">print()</span> to reproduce each line of  part of the lyric from \"Hey Jude\" by The Beatles.\n",
    "\n",
    "\n",
    "\n",
    "Hey <span style=\"color:red\">Jude</span>, don't make it bad\n",
    "\n",
    "Take a sad song and make it better\n",
    "\n",
    "Remember to let her under your skin\n",
    "\n",
    "Then you'll begin to make it better\n",
    "\n",
    "<span style=\"color:blue\">Better better better better better</span>, ah!\n",
    "\n",
    "<span style=\"color:blue\">Na na na na na na na (yeah yeah yeah yeah yeah yeah yeah)</span>\n",
    "\n",
    "<span style=\"color:blue\">Na na na na</span>, hey <span style=\"color:red\">Jude</span>\n",
    "\n",
    "<span style=\"color:blue\">Na na na na na na na</span>\n",
    "\n",
    "<span style=\"color:blue\">Na na na na</span>, hey <span style=\"color:red\">Jude</span>\n",
    "\n",
    "<span style=\"color:blue\">Na na na na na na na</span>\n",
    "\n",
    "<span style=\"color:blue\">Na na na na</span>, hey <span style=\"color:red\">Jude</span>\n",
    "\n",
    "<span style=\"color:blue\">Na na na na na na na</span>\n",
    "\n",
    "<span style=\"color:blue\">Na na na na</span>  hey <span style=\"color:red\">Jude</span> (<span style=\"color:red\">Jude Jude</span>, <span style=\"color:purple\">Judy Judy Judy Judy</span>, ow wow!)\n",
    "\n",
    "* Some symbols were removed to make this exercise easier"
   ]
  },
  {
   "cell_type": "markdown",
   "metadata": {},
   "source": [
    "# Question 2\n",
    "\n",
    "1. Create a list called `seasons = [1,'Spring','Summer','Autumn',2019]`   \n",
    "2. Remove the `2019`\n",
    "3. Delete the value 1\n",
    "3. Verify if `Summer` is in the list\n",
    "4. Insert `Winter` into the first index of the list\n",
    "5. Replace `Autmn` with `Fall`\n",
    "\n",
    "The final `seasons` list should be equals to ['Winter', 'Spring', 'Summer', 'Fall']"
   ]
  },
  {
   "cell_type": "markdown",
   "metadata": {},
   "source": [
    "# Question 3\n",
    "\n",
    "1. Create a dictionary with the seasons as `keys` and `values` contained the representations of each season (You can add more the one). Example: `Summer` reminds me about the `sun` and `outdoor activities`, when I think about `Spring`, I think of `flowers`,... \n",
    "\n",
    "2. Check if it is a dictionary\n",
    "3. Access the `Summer` values \n",
    "4. Delete `Fall`\n",
    "5. Add `Autumn` and a tuple with new representations"
   ]
  }
 ],
 "metadata": {
  "kernelspec": {
   "display_name": "Python [conda env:Anaconda3]",
   "language": "python",
   "name": "conda-env-Anaconda3-py"
  },
  "language_info": {
   "codemirror_mode": {
    "name": "ipython",
    "version": 3
   },
   "file_extension": ".py",
   "mimetype": "text/x-python",
   "name": "python",
   "nbconvert_exporter": "python",
   "pygments_lexer": "ipython3",
   "version": "3.6.6"
  }
 },
 "nbformat": 4,
 "nbformat_minor": 2
}
