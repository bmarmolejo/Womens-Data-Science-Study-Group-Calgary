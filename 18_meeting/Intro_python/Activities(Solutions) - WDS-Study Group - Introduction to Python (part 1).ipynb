{
 "cells": [
  {
   "cell_type": "markdown",
   "metadata": {},
   "source": [
    "# Question 1\n",
    "\n",
    "Create <span style=\"color:red\">var_jude = 'Jude'</span> and <span style=\"color:purple\">var_judy = 'Judy'</span> and se the function <span style=\"color:blue\">print()</span> to reproduce each line of  part of the lyric from \"Hey Jude\" by The Beatles.\n",
    "\n",
    "\n",
    "\n",
    "Hey <span style=\"color:red\">Jude</span>, don't make it bad\n",
    "\n",
    "Take a sad song and make it better\n",
    "\n",
    "Remember to let her under your skin\n",
    "\n",
    "Then you'll begin to make it better\n",
    "\n",
    "<span style=\"color:blue\">Better better better better better</span>, ah!\n",
    "\n",
    "<span style=\"color:blue\">Na na na na na na na (yeah yeah yeah yeah yeah yeah yeah)</span>\n",
    "\n",
    "<span style=\"color:blue\">Na na na na</span>, hey <span style=\"color:red\">Jude</span>\n",
    "\n",
    "<span style=\"color:blue\">Na na na na na na na</span>\n",
    "\n",
    "<span style=\"color:blue\">Na na na na</span>, hey <span style=\"color:red\">Jude</span>\n",
    "\n",
    "<span style=\"color:blue\">Na na na na na na na</span>\n",
    "\n",
    "<span style=\"color:blue\">Na na na na</span>, hey <span style=\"color:red\">Jude</span>\n",
    "\n",
    "<span style=\"color:blue\">Na na na na na na na</span>\n",
    "\n",
    "<span style=\"color:blue\">Na na na na</span>  hey <span style=\"color:red\">Jude</span> (<span style=\"color:red\">Jude Jude</span>, <span style=\"color:purple\">Judy Judy Judy Judy</span>, ow wow!)\n",
    "\n",
    "* Some symbols were removed to make this exercise easier"
   ]
  },
  {
   "cell_type": "code",
   "execution_count": 14,
   "metadata": {},
   "outputs": [
    {
     "name": "stdout",
     "output_type": "stream",
     "text": [
      "hey Jude , don't make it bad\n",
      "Take a sad song and make it better\n",
      "Remember to let her under your skin\n",
      "Then you'll begin to make it better\n",
      "Better  better better better better , ah!\n",
      "Na  na na na na na na (  yeah yeah yeah yeah yeah yeah yeah )\n",
      "Na  na na na hey Jude\n",
      "Na  na na na na na na\n",
      "Na  na na na hey Jude\n",
      "Na  na na na na na na\n",
      "Na  na na na hey Jude\n",
      "Na  na na na na na na\n",
      "Na  na na na hey Jude ( Jude Jude Judy Judy Judy Judy ow wow!)\n"
     ]
    }
   ],
   "source": [
    "# Solution\n",
    "var_hey = 'hey'\n",
    "var_jude = 'Jude'  \n",
    "var_judy = 'Judy'\n",
    "var_Na = 'Na'\n",
    "var_na = ' na'\n",
    "\n",
    "print(var_hey, var_jude, ', don\\'t make it bad') \n",
    "print('Take a sad song and make it better')\n",
    "print('Remember to let her under your skin')\n",
    "print('Then you\\'ll begin to make it better')\n",
    "print('Better',' better'*4, ', ah!')\n",
    "\n",
    "print(var_Na,var_na*6, '(',' yeah'*7,')')\n",
    "print(var_Na,var_na*3, var_hey, var_jude)\n",
    "print(var_Na,var_na*6)\n",
    "print(var_Na,var_na*3, var_hey,var_jude)\n",
    "print(var_Na,var_na*6)\n",
    "print(var_Na,var_na*3, var_hey,var_jude)\n",
    "print(var_Na,var_na*6)\n",
    "print(var_Na,var_na*3, var_hey, var_jude, '(',var_jude,var_jude, var_judy, var_judy, var_judy, var_judy, 'ow wow!)')"
   ]
  },
  {
   "cell_type": "markdown",
   "metadata": {},
   "source": [
    "# Question 2\n",
    "\n",
    "1. Create a list called `seasons = [1,'Spring','Summer','Autumn',2019]`   \n",
    "2. Remove the `2019`\n",
    "3. Delete the value 1\n",
    "3. Verify if `Summer` is in the list\n",
    "4. Insert `Winter` into the first index of the list\n",
    "5. Replace `Autmn` with `Fall`\n",
    "\n",
    "The final `seasons` list should be equals to ['Winter', 'Spring', 'Summer', 'Fall']"
   ]
  },
  {
   "cell_type": "code",
   "execution_count": 27,
   "metadata": {},
   "outputs": [
    {
     "name": "stdout",
     "output_type": "stream",
     "text": [
      "Is Summer in the seasons?  True\n",
      "['Winter', 'Spring', 'Summer', 'Fall']\n"
     ]
    }
   ],
   "source": [
    "# Solution\n",
    "seasons = [1,'Spring','Summer','Autumn',2019] #Create a list called seasons\n",
    "\n",
    "seasons.remove(2019) #Remove the `2019`\n",
    "del seasons[0] #Delete the value 1\n",
    "print('Is Summer in the seasons? ','Summer' in seasons) #Verify if `Summer` is in the list\n",
    "seasons.insert( 0, 'Winter') #Insert `Winter` into the first index of the list\n",
    "seasons[-1] = 'Fall' #Replace `Autmn`with `Fall`\n",
    "print(seasons)"
   ]
  },
  {
   "cell_type": "markdown",
   "metadata": {},
   "source": [
    "# Question 3\n",
    "\n",
    "1. Create a dictionary with the seasons as `keys` and `values` contained the representations of each season (You can add more the one). Example: `Summer` reminds me about the `sun` and `outdoor activities`, when I think about `Spring`, I think of `flowers`,... \n",
    "\n",
    "2. Check if it is a dictionary\n",
    "3. Access the `Summer` values \n",
    "4. Delete `Fall`\n",
    "5. Add `Autumn` and a tuple with new representations"
   ]
  },
  {
   "cell_type": "code",
   "execution_count": 34,
   "metadata": {},
   "outputs": [],
   "source": [
    "seasons_representation = {'Winter': ('snow','cold','fireplace'),\n",
    "                          'Spring': ('flowers','bunnies'),\n",
    "                          'Summer': ('sun','outdoor activities'),\n",
    "                          'Fall': ('leaves','fruits')}"
   ]
  },
  {
   "cell_type": "code",
   "execution_count": 35,
   "metadata": {},
   "outputs": [
    {
     "data": {
      "text/plain": [
       "dict"
      ]
     },
     "execution_count": 35,
     "metadata": {},
     "output_type": "execute_result"
    }
   ],
   "source": [
    "type(seasons_representation) # Check if it is a dictionary"
   ]
  },
  {
   "cell_type": "code",
   "execution_count": 36,
   "metadata": {},
   "outputs": [
    {
     "name": "stdout",
     "output_type": "stream",
     "text": [
      "The Summer representations are:  ('sun', 'outdoor activities')\n"
     ]
    }
   ],
   "source": [
    "print(\"The Summer representations are: \", seasons_representation['Summer']) # Access the `Summer` values "
   ]
  },
  {
   "cell_type": "code",
   "execution_count": 37,
   "metadata": {},
   "outputs": [
    {
     "data": {
      "text/plain": [
       "{'Winter': ('snow', 'cold', 'fireplace'),\n",
       " 'Spring': ('flowers', 'bunnies'),\n",
       " 'Summer': ('sun', 'outdoor activities')}"
      ]
     },
     "execution_count": 37,
     "metadata": {},
     "output_type": "execute_result"
    }
   ],
   "source": [
    "del seasons_representation['Fall'] #Delete `Fall`\n",
    "seasons_representation"
   ]
  },
  {
   "cell_type": "code",
   "execution_count": 39,
   "metadata": {},
   "outputs": [
    {
     "data": {
      "text/plain": [
       "{'Winter': ('snow', 'cold', 'fireplace'),\n",
       " 'Spring': ('flowers', 'bunnies'),\n",
       " 'Summer': ('sun', 'outdoor activities'),\n",
       " 'Autumn': ('yellow', 'Halloween')}"
      ]
     },
     "execution_count": 39,
     "metadata": {},
     "output_type": "execute_result"
    }
   ],
   "source": [
    "seasons_representation['Autumn'] = ('yellow','Halloween') #Add `Autumn` and a tuple with new representations\n",
    "seasons_representation"
   ]
  }
 ],
 "metadata": {
  "kernelspec": {
   "display_name": "Python [conda env:Anaconda3]",
   "language": "python",
   "name": "conda-env-Anaconda3-py"
  },
  "language_info": {
   "codemirror_mode": {
    "name": "ipython",
    "version": 3
   },
   "file_extension": ".py",
   "mimetype": "text/x-python",
   "name": "python",
   "nbconvert_exporter": "python",
   "pygments_lexer": "ipython3",
   "version": "3.6.6"
  }
 },
 "nbformat": 4,
 "nbformat_minor": 2
}
